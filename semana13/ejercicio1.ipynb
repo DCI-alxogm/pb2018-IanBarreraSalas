{
 "cells": [
  {
   "cell_type": "code",
   "execution_count": 2,
   "metadata": {},
   "outputs": [],
   "source": [
    "import matplotlib.pyplot as pit\n",
    "import numpy as np \n",
    "%matplotlib inline"
   ]
  },
  {
   "cell_type": "code",
   "execution_count": 26,
   "metadata": {},
   "outputs": [],
   "source": [
    "x=np.random.rand(10)\n",
    "y=np.random.rand(10)"
   ]
  },
  {
   "cell_type": "code",
   "execution_count": 27,
   "metadata": {},
   "outputs": [],
   "source": [
    "a=np.array([x,y])"
   ]
  },
  {
   "cell_type": "code",
   "execution_count": 28,
   "metadata": {},
   "outputs": [
    {
     "name": "stdout",
     "output_type": "stream",
     "text": [
      "[[0.66277239 0.81207513 0.90079275 0.88703525 0.95456639 0.42609224\n",
      "  0.94992168 0.57715381 0.57587926 0.49215426]\n",
      " [0.20237957 0.69219919 0.53307756 0.99128278 0.91116354 0.10782603\n",
      "  0.99820193 0.881174   0.61394264 0.89706615]]\n"
     ]
    }
   ],
   "source": [
    "print (a)"
   ]
  },
  {
   "cell_type": "code",
   "execution_count": 29,
   "metadata": {},
   "outputs": [
    {
     "data": {
      "text/plain": [
       "[<matplotlib.lines.Line2D at 0x7f6359001b70>,\n",
       " <matplotlib.lines.Line2D at 0x7f6359001cf8>,\n",
       " <matplotlib.lines.Line2D at 0x7f6359001e48>,\n",
       " <matplotlib.lines.Line2D at 0x7f6359001f98>,\n",
       " <matplotlib.lines.Line2D at 0x7f635900a128>,\n",
       " <matplotlib.lines.Line2D at 0x7f635900a278>,\n",
       " <matplotlib.lines.Line2D at 0x7f635900a3c8>,\n",
       " <matplotlib.lines.Line2D at 0x7f635900a518>,\n",
       " <matplotlib.lines.Line2D at 0x7f635900a668>,\n",
       " <matplotlib.lines.Line2D at 0x7f635900a7b8>]"
      ]
     },
     "execution_count": 29,
     "metadata": {},
     "output_type": "execute_result"
    },
    {
     "data": {
      "image/png": "[encoded data removed]",
      "text/plain": [
       "<Figure size 432x288 with 1 Axes>"
      ]
     },
     "metadata": {},
     "output_type": "display_data"
    }
   ],
   "source": [
    "pit.plot([x],[y],\"ro\")"
   ]
  },
  {
   "cell_type": "code",
   "execution_count": 61,
   "metadata": {},
   "outputs": [
    {
     "ename": "IndentationError",
     "evalue": "expected an indented block (<ipython-input-61-12bfe70f3069>, line 3)",
     "output_type": "error",
     "traceback": [
      "\u001b[0;36m  File \u001b[0;32m\"<ipython-input-61-12bfe70f3069>\"\u001b[0;36m, line \u001b[0;32m3\u001b[0m\n\u001b[0;31m    w = (z**2+x**2)**0.5\u001b[0m\n\u001b[0m    ^\u001b[0m\n\u001b[0;31mIndentationError\u001b[0m\u001b[0;31m:\u001b[0m expected an indented block\n"
     ]
    }
   ],
   "source": [
    "z=0\n",
    "for z in range (0,10):\n",
    "w = (z**2+x**2)**0.5\n",
    "z += 1"
   ]
  },
  {
   "cell_type": "code",
   "execution_count": 56,
   "metadata": {},
   "outputs": [
    {
     "name": "stdout",
     "output_type": "stream",
     "text": [
      "[nan nan nan nan nan nan nan nan nan nan]\n"
     ]
    }
   ],
   "source": [
    "print (w)"
   ]
  },
  {
   "cell_type": "code",
   "execution_count": 57,
   "metadata": {},
   "outputs": [
    {
     "name": "stdout",
     "output_type": "stream",
     "text": [
      "[nan nan nan nan nan nan nan nan nan nan]\n"
     ]
    }
   ],
   "source": [
    "print (z)"
   ]
  },
  {
   "cell_type": "code",
   "execution_count": 58,
   "metadata": {},
   "outputs": [
    {
     "data": {
      "text/plain": [
       "[<matplotlib.lines.Line2D at 0x7f6358f13400>,\n",
       " <matplotlib.lines.Line2D at 0x7f6358f13518>,\n",
       " <matplotlib.lines.Line2D at 0x7f6358f13668>,\n",
       " <matplotlib.lines.Line2D at 0x7f6358f137b8>,\n",
       " <matplotlib.lines.Line2D at 0x7f6358f13908>,\n",
       " <matplotlib.lines.Line2D at 0x7f6358f13a58>,\n",
       " <matplotlib.lines.Line2D at 0x7f6358f13ba8>,\n",
       " <matplotlib.lines.Line2D at 0x7f6358f13cf8>,\n",
       " <matplotlib.lines.Line2D at 0x7f6358f13e48>,\n",
       " <matplotlib.lines.Line2D at 0x7f6358f13f98>]"
      ]
     },
     "execution_count": 58,
     "metadata": {},
     "output_type": "execute_result"
    },
    {
     "data": {
      "image/png": "[encoded data removed]",
      "text/plain": [
       "<Figure size 432x288 with 1 Axes>"
      ]
     },
     "metadata": {},
     "output_type": "display_data"
    }
   ],
   "source": [
    "pit.plot([w],[z],\"ro\")"
   ]
  },
  {
   "cell_type": "code",
   "execution_count": null,
   "metadata": {},
   "outputs": [],
   "source": []
  },
  {
   "cell_type": "code",
   "execution_count": null,
   "metadata": {},
   "outputs": [],
   "source": []
  },
  {
   "cell_type": "code",
   "execution_count": null,
   "metadata": {},
   "outputs": [],
   "source": []
  }
 ],
 "metadata": {
  "kernelspec": {
   "display_name": "Python 2",
   "language": "python",
   "name": "python2"
  },
  "language_info": {
   "codemirror_mode": {
    "name": "ipython",
    "version": 3
   },
   "file_extension": ".py",
   "mimetype": "text/x-python",
   "name": "python",
   "nbconvert_exporter": "python",
   "pygments_lexer": "ipython3",
   "version": "3.6.6"
  }
 },
 "nbformat": 4,
 "nbformat_minor": 2
}
